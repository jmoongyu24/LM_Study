{
 "cells": [
  {
   "cell_type": "code",
   "execution_count": 1,
   "metadata": {},
   "outputs": [],
   "source": [
    "import numpy as np\n",
    "import pandas as pd"
   ]
  },
  {
   "cell_type": "code",
   "execution_count": null,
   "metadata": {},
   "outputs": [],
   "source": [
    "class RNN:\n",
    "    def __init__(self,hidden_size,vocab_size,seq_length,learning_rate):\n",
    "        #hyper parameters\n",
    "        self.hidden_size=hidden_size\n",
    "        self.vocab_size=vocab_size\n",
    "        self.seq_length=seq_length\n",
    "        self.learning_rate=learning_rate\n",
    "        \n",
    "        #model parameters\n",
    "        #np.random.uniform(low,high,size): low부터 high까지의 난수를 size 크기 만큼 생성\n",
    "        #1/vocab_size가 아닌 1./vocab_size인 이유: 1이 아닌 '1.'으로 명시적으로 실수형 연산 지정함\n",
    "        self.U=np.random.uniform(-np.sqrt(1./vocab_size), np.sqrt(1./vocab_size), (hiddem_sie, vocab_size))\n",
    "        self.V=np.random.uniform(-np.sqrt(1./hidden_size), np.sqrt(1./hidden_size), (vocab_size, hidden_size))\n",
    "        self.W=np.random.uniform(-np.sqrt(1./hidden_size), np.sqrt(1./hidden_size), (hidden_size, hidden_size))\n",
    "        \n",
    "        #bias for hidden layer\n",
    "        self.b = np.zeros((hidden_size,1)) # bias for hidden layer.\n",
    "        #bias for output\n",
    "        self.c = np.zeros((vocab_size,1)) # bias for output."
   ]
  },
  {
   "cell_type": "code",
   "execution_count": null,
   "metadata": {},
   "outputs": [],
   "source": [
    "def forward(self, inputs, hprev):\n",
    "    xs, hs, os, yacp={}, {}, {}, {}\n",
    "    hs[-1]=np.copy(hprev)\n",
    "\n",
    "    for t in range(len(inputs)):\n",
    "        #xs[t]: 현재 시점 t의 입력 벡터(크기:(vocab_size,1))\n",
    "        xs[t]=zero_init(self.vocab_size, 1)\n",
    "        #ont-hot 인코딩\n",
    "        xs[t][inputs[t]]=1\n",
    "\n",
    "        #<hidden state>\n",
    "        #hs[t]: 현재 시점 t의 은닉 상태, np.tanh(): 하이퍼볼릭 탄젠트 함수(비선형 활성화 함수)\n",
    "        #hs[t-1]: 이전 시점 t-1의 은닉 상태(크기: (hidden_size,1))\n",
    "        #self.U: 입력 가중치 행렬(크기: (hidden_size, vocab_size))\n",
    "        #self.W: 은닉 상태 가중치 행렬(크기: (hidden_size, hidden_size))\n",
    "\n",
    "        #np.dot(self.U, xs[t]): 입력 xs[t]에 대한 선형 변환(입력 가중치 적용) / 현재 입력 xs[t]가 은닉 상태에 어떤 영향을 미치는지 계산\n",
    "        #np.dot(self.W, hs[t-1]): 이전 은닉 상태 hs[t-1]에 대한 선형 변환(은닉 상태 가중치 적용) / 이전 은닉 상태 hs[t-1]이 현재 은닉 상태에 어떤 영향을 미치는지 계산\n",
    "\n",
    "        hs[t]=np.tanh(np.dot(self.U, xs[t])+np.dot(self.W, hs[t-1])+self.b)\n",
    "\n",
    "        #<output> : 은닉 상태 hs[t]가 출력 os[t]로 바뀜\n",
    "        #os[t]: RNN의 출력층 값\n",
    "        #self.V: 출력 가중치 행렬(크기: (output_size, hidden_size))\n",
    "        os[t]=np.dot(self.V, hs[t])+self.c\n",
    "\n",
    "        #ycap[t]: 최종 확률 분포(예측값), 소프트맥스 함수로 0~1 사이 값으로 변환\n",
    "        ycap[t]=self.softmax(os[t])\n",
    "\n",
    "    return xs, hs, os, ycap "
   ]
  }
 ],
 "metadata": {
  "kernelspec": {
   "display_name": "Py39AIPractice",
   "language": "python",
   "name": "python3"
  },
  "language_info": {
   "codemirror_mode": {
    "name": "ipython",
    "version": 3
   },
   "file_extension": ".py",
   "mimetype": "text/x-python",
   "name": "python",
   "nbconvert_exporter": "python",
   "pygments_lexer": "ipython3",
   "version": "3.9.21"
  }
 },
 "nbformat": 4,
 "nbformat_minor": 2
}
