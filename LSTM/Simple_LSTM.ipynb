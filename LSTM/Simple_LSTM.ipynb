{
 "cells": [
  {
   "cell_type": "code",
   "execution_count": 1,
   "metadata": {},
   "outputs": [],
   "source": [
    "import torch\n",
    "import torch.nn as nn"
   ]
  },
  {
   "cell_type": "code",
   "execution_count": null,
   "metadata": {},
   "outputs": [],
   "source": [
    "class LSTMCell(nn.Module):\n",
    "    def __init__(self, input_size, hidden_size):\n",
    "        super(LSTMCell, self).__init__()\n",
    "        self.input_size=input_size\n",
    "        self.hidden_size=hidden_size\n",
    "\n",
    "        #Input Gate components\n",
    "        self.W_ii=nn.Parameter(torch.Tensor(hidden_size, input_size))\n",
    "        self.W_hi=nn.Parameter(torch.Tensor(hidden_size, hidden_size))\n",
    "        self.b_i=nn.Parameter(torch.Tensor(hidden_size))\n",
    "\n",
    "        #Forget Gate components\n",
    "        self.W_if=nn.Parameter(torch.Tensor(hidden_size, input_size))\n",
    "        self.W_hf=nn.Parameter(torch.Tensor(hidden_size, hidden_size))\n",
    "        self.b_f=nn.Parameter(torch.Tensor(hidden_size))\n",
    "\n",
    "        #Cell Gate components\n",
    "        self.W_ig=nn.Parameter(torch.Tensor(hidden_size, input_size))\n",
    "        self.W_hg=nn.Parameter(torch.Tensor(hidden_size, hidden_size))\n",
    "        self.b_g=nn.Parameter(torch.Tensor(hidden_size))\n",
    "\n",
    "        #Output Gate components\n",
    "        self.W_io=nn.Parameter(torch.Tensor(hidden_size, input_size))\n",
    "        self.W_ho=nn.Parameter(torch.Tensor(hidden_size, hidden_size))\n",
    "        self.b_o=nn.Parameter(torch.Tensor(hidden_size))\n",
    "\n",
    "        self.init_weights()\n",
    "\n",
    "    def init_weights(self):\n",
    "        for param in self.parameters():\n",
    "            #가중치를 -0.1 ~ 0.1 사이의 값으로 초기화\n",
    "            nn.init.uniform_(param, -0.1, 0.1)\n",
    "\n",
    "    #LSTM의 순전파\n",
    "    def forward(self, x, hidden):\n",
    "        \"\"\"\n",
    "        x: 현재 입력 벡터\n",
    "        hidden: 이전 타임스텝의 은닉 상태(h_prev)와 셀 상태(c_prev)\n",
    "        h_prev: 직전의 은닉 상태\n",
    "        c_prev: 직전의 셀 상태\n",
    "        \"\"\"\n",
    "        h_prev, c_prev = hidden\n",
    "\n",
    "        #입력 게이트, 새로운 정보를 얼마나 받아들이지 결정, 시그모이드 함수로 0~1 사이의 값 출력, 1이면 새로운 정보 많이, 0이면 거의 받아들이지 않음음\n",
    "        i_t = torch.sigmoid(x @ self.W_ii.T + h_prev @ self.W_hi.T + self.b_i)\n",
    "        #망각 게이트, 이전 셀 상태를 얼마나 유지할지 결정, 시그모이드 함수로 0~1 사이의 값 출력, 1이면 기존 정보 유지, 0이면 삭제제\n",
    "        f_t = torch.sigmoid(x @ self.W_if.T + h_prev @ self.W_hf.T + self.b_f)\n",
    "        #셀 상태 후보값, 새로운 셀 상태 후보값을 계산, tanh 함수로 -1~1 사이의 값 출력\n",
    "        g_t = torch.tanh(x @ self.W_ig.T + h_prev @ self.W_hg.T + self.b_g)\n",
    "        #출력 게이트, 최종 은닉 상태에 반영할 정보를 결정, 시그모이드 함수로 0~1 사이의 값 출력\n",
    "        o_t = torch.sigmoid(x @ self.W_io.T + h_prev @ self.W_ho.T + self.b_o)\n",
    "        \n",
    "        #새로운 셀 상태 c_t, 이전 셀 상태(c_prev)를 f_t(망각 게이트)로 조절, 새로운 정보 g_t를 i_t(입력 게이트)로 조절하여 반영영\n",
    "        c_t = f_t * c_prev + i_t * g_t\n",
    "        #c_t에 출력 게이트(o_t)를 곱하여 최종 은닉 상태 결정정\n",
    "        h_t = o_t * torch.tanh(c_t)\n",
    "        \n",
    "\n",
    "        #새로운 은닉 상태 h_t와 셀 상태(c_t) 반환\n",
    "        #h_t는 다음 레이어의 입력으로 사용\n",
    "        #(h_t, c_t)는 다음 타임스텝에 입력될 은닉 상태로 사용\n",
    "        return h_t, (h_t, c_t)"
   ]
  },
  {
   "cell_type": "code",
   "execution_count": 3,
   "metadata": {},
   "outputs": [],
   "source": [
    "class LSTM(nn.Module):\n",
    "    def __init__(self, input_window_size, hidden_size, num_layers):\n",
    "        super(LSTM, self).__init__()\n",
    "        self.hidden_size = hidden_size\n",
    "        self.num_layers = num_layers\n",
    "        self.cells = nn.ModuleList([LSTMCell(input_window_size, hidden_size) if i == 0 \n",
    "                                    else LSTMCell(hidden_size, hidden_size) \n",
    "                                    for i in range(num_layers)])\n",
    "        self.fc = nn.Linear(hidden_size, 1)\n",
    "\n",
    "    def forward(self, x):\n",
    "        batch_size, seq_len, _ = x.size()\n",
    "        h = [torch.zeros(batch_size, self.hidden_size).to(x.device) for _ in range(self.num_layers)]\n",
    "        c = [torch.zeros(batch_size, self.hidden_size).to(x.device) for _ in range(self.num_layers)]\n",
    "        \n",
    "        for t in range(seq_len):\n",
    "            x_t = x[:, t, :]\n",
    "            for i, cell in enumerate(self.cells):\n",
    "                h[i], (h[i], c[i]) = cell(x_t, (h[i], c[i]))\n",
    "                x_t = h[i]\n",
    "        \n",
    "        out = self.fc(h[-1])\n",
    "        return out\n"
   ]
  },
  {
   "cell_type": "code",
   "execution_count": 4,
   "metadata": {},
   "outputs": [
    {
     "name": "stdout",
     "output_type": "stream",
     "text": [
      "LSTM(\n",
      "  (cells): ModuleList(\n",
      "    (0-1): 2 x LSTMCell()\n",
      "  )\n",
      "  (fc): Linear(in_features=50, out_features=1, bias=True)\n",
      ")\n"
     ]
    }
   ],
   "source": [
    "#Example Usage\n",
    "input_window_size=10\n",
    "hidden_size=50\n",
    "num_layers=2\n",
    "\n",
    "model=LSTM(input_window_size, hidden_size, num_layers)\n",
    "print(model)\n",
    "sample_input=torch.randn(1, 5, input_window_size)\n",
    "device = torch.device('cuda' if torch.cuda.is_available() else 'cpu')\n",
    "sample_input=sample_input.to(device)\n",
    "output=model(sample_input) # shape=(1, )"
   ]
  }
 ],
 "metadata": {
  "kernelspec": {
   "display_name": "Py3.9_AIPractice",
   "language": "python",
   "name": "python3"
  },
  "language_info": {
   "codemirror_mode": {
    "name": "ipython",
    "version": 3
   },
   "file_extension": ".py",
   "mimetype": "text/x-python",
   "name": "python",
   "nbconvert_exporter": "python",
   "pygments_lexer": "ipython3",
   "version": "3.9.18"
  }
 },
 "nbformat": 4,
 "nbformat_minor": 2
}
