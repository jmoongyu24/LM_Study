{
 "cells": [
  {
   "cell_type": "code",
   "execution_count": 2,
   "metadata": {},
   "outputs": [],
   "source": [
    "import torch\n",
    "import torch.nn as nn"
   ]
  },
  {
   "cell_type": "code",
   "execution_count": null,
   "metadata": {},
   "outputs": [],
   "source": [
    "class LSTMCell(nn.Module):\n",
    "    def __init__(self, input_size, hidden_size):\n",
    "        super(LSTMCell, self).__init__()\n",
    "        self.input_size=input_size\n",
    "        self.hidden_size=hidden_size\n",
    "\n",
    "        #Input Gate components\n",
    "        self.W_ii=nn.Parameter(torch.Tensor(hidden_size, input_size))\n",
    "        self.W_hi=nn.Parameter(torch.Tensor(hidden_size, hidden_size))\n",
    "        self.b_i=nn.Parameter(torch.Tensor(hidden_size))\n",
    "\n",
    "        #Forget Gate components\n",
    "        self.W_if=nn.Parameter(torch.Tensor(hidden_size, input_size))\n",
    "        self.W_hf=nn.Parameter(torch.Tensor(hidden_size, hidden_size))\n",
    "        self.b_f=nn.Parameter(torch.Tensor(hidden_size))\n",
    "\n",
    "        #Cell Gate components\n",
    "        self.W_ig=nn.Parameter(torch.Tensor(hidden_size, input_size))\n",
    "        self.W_hg=nn.Parameter(torch.Tensor(hidden_size, hidden_size))\n",
    "        self.b_g=nn.Parameter(torch.Tensor(hidden_size))\n",
    "\n",
    "        #Output Gate components\n",
    "        self.W_io=nn.Parameter(torch.Tensor(hidden_size, input_size))\n",
    "        self.W_ho=nn.Parameter(torch.Tensor(hidden_size, hidden_size))\n",
    "        self.b_o=nn.Parameter(torch.Tensor(hidden_size))\n",
    "\n",
    "        self.init_weights()\n",
    "\n",
    "    def init_weights(self):\n",
    "        for param in self.parameters():\n",
    "            nn.init.uniform_(param, -0.1, 0.1)\n",
    "\n",
    "    def forward(self, x, hidden):\n",
    "        h_prev, c_prev=hidden"
   ]
  }
 ],
 "metadata": {
  "kernelspec": {
   "display_name": "Py3.9_AIPractice",
   "language": "python",
   "name": "python3"
  },
  "language_info": {
   "codemirror_mode": {
    "name": "ipython",
    "version": 3
   },
   "file_extension": ".py",
   "mimetype": "text/x-python",
   "name": "python",
   "nbconvert_exporter": "python",
   "pygments_lexer": "ipython3",
   "version": "3.9.18"
  }
 },
 "nbformat": 4,
 "nbformat_minor": 2
}
